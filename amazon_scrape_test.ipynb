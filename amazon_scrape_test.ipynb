{
 "cells": [
  {
   "cell_type": "markdown",
   "metadata": {},
   "source": [
    "#### Test: Scraping Amazon for listings relating to Kirby Plush, converting to DataFrame\n",
    "\n",
    "##### Setting up imports"
   ]
  },
  {
   "cell_type": "code",
   "execution_count": 39,
   "metadata": {},
   "outputs": [],
   "source": [
    "from bs4 import BeautifulSoup\n",
    "import pandas as pd\n",
    "import requests"
   ]
  },
  {
   "cell_type": "markdown",
   "metadata": {},
   "source": [
    "#### Fetching remote resource, converting to soup"
   ]
  },
  {
   "cell_type": "code",
   "execution_count": 40,
   "metadata": {},
   "outputs": [],
   "source": [
    "page = requests.get(\"https://www.ebay.com/sch/i.html?_from=R40&_trksid=p2380057.m570.l1313&_nkw=kirby+plush&_sacat=0\")\n",
    "soup = BeautifulSoup(page.text, 'lxml')"
   ]
  },
  {
   "cell_type": "markdown",
   "metadata": {},
   "source": [
    "#### Narrowing down to collection of product cards"
   ]
  },
  {
   "cell_type": "code",
   "execution_count": 41,
   "metadata": {},
   "outputs": [],
   "source": [
    "products = soup.find_all(\"li\", attrs={'class':'s-item'})"
   ]
  },
  {
   "cell_type": "markdown",
   "metadata": {},
   "source": [
    "#### Areas of interest:\n",
    "* Product Name (span role=\"heading\")\n",
    "* Product Condition (span class=\"SECONDARY_INFO\")\n",
    "* Link to image (img class=\"s-item__image-img\")\n",
    "* Product Price (span class=\"s-item__price\")\n",
    "* If it's a new listing (span class=\"LIGHT_HIGHLIGHT\")\n",
    "* If it's a sponsored link (Interesting hiccup - this is present on sponsored AND non-sponsored posts, the only change is if it's visible or not)\n"
   ]
  },
  {
   "cell_type": "markdown",
   "metadata": {},
   "source": [
    "#### Creating DF with headers"
   ]
  },
  {
   "cell_type": "code",
   "execution_count": 42,
   "metadata": {},
   "outputs": [
    {
     "name": "stdout",
     "output_type": "stream",
     "text": [
      "<class 'pandas.core.frame.DataFrame'>\n",
      "Index: 0 entries\n",
      "Data columns (total 5 columns):\n",
      " #   Column       Non-Null Count  Dtype \n",
      "---  ------       --------------  ----- \n",
      " 0   Name         0 non-null      object\n",
      " 1   Condition    0 non-null      object\n",
      " 2   Price        0 non-null      object\n",
      " 3   New_Listing  0 non-null      bool  \n",
      " 4   Image_Link   0 non-null      object\n",
      "dtypes: bool(1), object(4)\n",
      "memory usage: 0.0+ bytes\n"
     ]
    }
   ],
   "source": [
    "df = pd.DataFrame(columns=[\"Name\",\"Condition\",\"Price\",\"New_Listing\",\"Image_Link\"])\n",
    "df = df.astype({\"New_Listing\": bool})\n",
    "df.info()"
   ]
  },
  {
   "cell_type": "markdown",
   "metadata": {},
   "source": [
    "#### Iterating through products, drilling to information, appending to df\n",
    "* The NAME attribute may also contain a nested span with the text \"NEW LISTING\".  To omit this, we have selected the entire span tag, then select the last element using [-1].  If \"NEW LISTING\" is present, will skip and grab product title.  If it is not present, will still grab product title\n",
    "* Another issue - there is a product card following same format as products, but contains \"Shop on eBay\" and is hidden from view.  To avoid hitting this error, implementing simple conditional loop to check if title contains \"Kirby\".  This will also help avoid unrelated sponsored content from being added"
   ]
  },
  {
   "cell_type": "code",
   "execution_count": 43,
   "metadata": {},
   "outputs": [
    {
     "data": {
      "text/html": [
       "<div>\n",
       "<style scoped>\n",
       "    .dataframe tbody tr th:only-of-type {\n",
       "        vertical-align: middle;\n",
       "    }\n",
       "\n",
       "    .dataframe tbody tr th {\n",
       "        vertical-align: top;\n",
       "    }\n",
       "\n",
       "    .dataframe thead th {\n",
       "        text-align: right;\n",
       "    }\n",
       "</style>\n",
       "<table border=\"1\" class=\"dataframe\">\n",
       "  <thead>\n",
       "    <tr style=\"text-align: right;\">\n",
       "      <th></th>\n",
       "      <th>Name</th>\n",
       "      <th>Condition</th>\n",
       "      <th>Price</th>\n",
       "      <th>New_Listing</th>\n",
       "      <th>Image_Link</th>\n",
       "    </tr>\n",
       "  </thead>\n",
       "  <tbody>\n",
       "    <tr>\n",
       "      <th>0</th>\n",
       "      <td>Sanei Kirby 5.5\" Plush Stuffed Doll (KP01) - K...</td>\n",
       "      <td>Brand New</td>\n",
       "      <td>$13.94</td>\n",
       "      <td>False</td>\n",
       "      <td>https://i.ebayimg.com/thumbs/images/g/ITEAAOSw...</td>\n",
       "    </tr>\n",
       "    <tr>\n",
       "      <th>0</th>\n",
       "      <td>Kirby Plush 14 Inch Very Soft Stuffed Animal K...</td>\n",
       "      <td>Brand New</td>\n",
       "      <td>$22.88</td>\n",
       "      <td>False</td>\n",
       "      <td>https://i.ebayimg.com/thumbs/images/g/3HsAAOSw...</td>\n",
       "    </tr>\n",
       "    <tr>\n",
       "      <th>0</th>\n",
       "      <td>Kirby 5.5\" Plush Toy Little Buddy Kirby Advent...</td>\n",
       "      <td>Brand New</td>\n",
       "      <td>$8.96</td>\n",
       "      <td>False</td>\n",
       "      <td>https://i.ebayimg.com/thumbs/images/g/xToAAOSw...</td>\n",
       "    </tr>\n",
       "    <tr>\n",
       "      <th>0</th>\n",
       "      <td>Kirby Sitting Plush</td>\n",
       "      <td>Pre-Owned</td>\n",
       "      <td>$10.00</td>\n",
       "      <td>True</td>\n",
       "      <td>https://i.ebayimg.com/thumbs/images/g/6FgAAOSw...</td>\n",
       "    </tr>\n",
       "    <tr>\n",
       "      <th>0</th>\n",
       "      <td>Kirby plush 10\" King Dedede Plush Doll</td>\n",
       "      <td>Brand New</td>\n",
       "      <td>$18.88</td>\n",
       "      <td>False</td>\n",
       "      <td>https://i.ebayimg.com/thumbs/images/g/2X8AAOSw...</td>\n",
       "    </tr>\n",
       "  </tbody>\n",
       "</table>\n",
       "</div>"
      ],
      "text/plain": [
       "                                                Name  Condition   Price  \\\n",
       "0  Sanei Kirby 5.5\" Plush Stuffed Doll (KP01) - K...  Brand New  $13.94   \n",
       "0  Kirby Plush 14 Inch Very Soft Stuffed Animal K...  Brand New  $22.88   \n",
       "0  Kirby 5.5\" Plush Toy Little Buddy Kirby Advent...  Brand New   $8.96   \n",
       "0                                Kirby Sitting Plush  Pre-Owned  $10.00   \n",
       "0             Kirby plush 10\" King Dedede Plush Doll  Brand New  $18.88   \n",
       "\n",
       "   New_Listing                                         Image_Link  \n",
       "0        False  https://i.ebayimg.com/thumbs/images/g/ITEAAOSw...  \n",
       "0        False  https://i.ebayimg.com/thumbs/images/g/3HsAAOSw...  \n",
       "0        False  https://i.ebayimg.com/thumbs/images/g/xToAAOSw...  \n",
       "0         True  https://i.ebayimg.com/thumbs/images/g/6FgAAOSw...  \n",
       "0        False  https://i.ebayimg.com/thumbs/images/g/2X8AAOSw...  "
      ]
     },
     "execution_count": 43,
     "metadata": {},
     "output_type": "execute_result"
    }
   ],
   "source": [
    "for product in products:\n",
    "    name = str(product.find(\"span\", attrs={\"role\":\"heading\"}).contents[-1])\n",
    "    condition = product.find(\"span\", class_=\"SECONDARY_INFO\").text\n",
    "    price = product.find(\"span\", class_=\"s-item__price\").text\n",
    "    image = product.find(\"img\", class_=\"s-item__image-img\")[\"src\"]\n",
    "    if product.find(\"span\", class_=\"LIGHT_HIGHLIGHT\") == None:\n",
    "        new_listing = False\n",
    "    else:\n",
    "        new_listing = True\n",
    "    #new_listing = product.find(\"span\", class_=\"LIGHT_HIGHLIGHT\")\n",
    "    if \"Kirby\" in name:\n",
    "        row = {\"Name\": name, \"Condition\": condition, \"Price\": price, \"New_Listing\":new_listing, \"Image_Link\":image}\n",
    "        df = pd.concat([df, pd.DataFrame([row])])\n",
    "        #print([name, condition, price, image, new_listing])\n",
    "df.head()"
   ]
  },
  {
   "cell_type": "markdown",
   "metadata": {},
   "source": [
    "#### A few cleanup steps - removing repeated zero index row by using reset_index(), then dropping the \"index\" column of all zeros"
   ]
  },
  {
   "cell_type": "code",
   "execution_count": 44,
   "metadata": {},
   "outputs": [
    {
     "data": {
      "text/html": [
       "<div>\n",
       "<style scoped>\n",
       "    .dataframe tbody tr th:only-of-type {\n",
       "        vertical-align: middle;\n",
       "    }\n",
       "\n",
       "    .dataframe tbody tr th {\n",
       "        vertical-align: top;\n",
       "    }\n",
       "\n",
       "    .dataframe thead th {\n",
       "        text-align: right;\n",
       "    }\n",
       "</style>\n",
       "<table border=\"1\" class=\"dataframe\">\n",
       "  <thead>\n",
       "    <tr style=\"text-align: right;\">\n",
       "      <th></th>\n",
       "      <th>Name</th>\n",
       "      <th>Condition</th>\n",
       "      <th>Price</th>\n",
       "      <th>New_Listing</th>\n",
       "      <th>Image_Link</th>\n",
       "    </tr>\n",
       "  </thead>\n",
       "  <tbody>\n",
       "    <tr>\n",
       "      <th>0</th>\n",
       "      <td>Sanei Kirby 5.5\" Plush Stuffed Doll (KP01) - K...</td>\n",
       "      <td>Brand New</td>\n",
       "      <td>$13.94</td>\n",
       "      <td>False</td>\n",
       "      <td>https://i.ebayimg.com/thumbs/images/g/ITEAAOSw...</td>\n",
       "    </tr>\n",
       "    <tr>\n",
       "      <th>1</th>\n",
       "      <td>Kirby Plush 14 Inch Very Soft Stuffed Animal K...</td>\n",
       "      <td>Brand New</td>\n",
       "      <td>$22.88</td>\n",
       "      <td>False</td>\n",
       "      <td>https://i.ebayimg.com/thumbs/images/g/3HsAAOSw...</td>\n",
       "    </tr>\n",
       "    <tr>\n",
       "      <th>2</th>\n",
       "      <td>Kirby 5.5\" Plush Toy Little Buddy Kirby Advent...</td>\n",
       "      <td>Brand New</td>\n",
       "      <td>$8.96</td>\n",
       "      <td>False</td>\n",
       "      <td>https://i.ebayimg.com/thumbs/images/g/xToAAOSw...</td>\n",
       "    </tr>\n",
       "    <tr>\n",
       "      <th>3</th>\n",
       "      <td>Kirby Sitting Plush</td>\n",
       "      <td>Pre-Owned</td>\n",
       "      <td>$10.00</td>\n",
       "      <td>True</td>\n",
       "      <td>https://i.ebayimg.com/thumbs/images/g/6FgAAOSw...</td>\n",
       "    </tr>\n",
       "    <tr>\n",
       "      <th>4</th>\n",
       "      <td>Kirby plush 10\" King Dedede Plush Doll</td>\n",
       "      <td>Brand New</td>\n",
       "      <td>$18.88</td>\n",
       "      <td>False</td>\n",
       "      <td>https://i.ebayimg.com/thumbs/images/g/2X8AAOSw...</td>\n",
       "    </tr>\n",
       "    <tr>\n",
       "      <th>5</th>\n",
       "      <td>6\" Kirby Super Star Plush Toys Cute Kirby Soft...</td>\n",
       "      <td>Brand New</td>\n",
       "      <td>$9.59 to $9.89</td>\n",
       "      <td>False</td>\n",
       "      <td>https://i.ebayimg.com/thumbs/images/g/~skAAOSw...</td>\n",
       "    </tr>\n",
       "    <tr>\n",
       "      <th>6</th>\n",
       "      <td>Kirby chef kawasaki plush doll anime video gam...</td>\n",
       "      <td>Pre-Owned</td>\n",
       "      <td>$8.38</td>\n",
       "      <td>False</td>\n",
       "      <td>https://i.ebayimg.com/thumbs/images/g/iNUAAOSw...</td>\n",
       "    </tr>\n",
       "    <tr>\n",
       "      <th>7</th>\n",
       "      <td>JUMBO Kirby Adventure Run Kirby Plush Toy Supe...</td>\n",
       "      <td>Brand New</td>\n",
       "      <td>$28.99</td>\n",
       "      <td>False</td>\n",
       "      <td>https://i.ebayimg.com/thumbs/images/g/A5wAAOSw...</td>\n",
       "    </tr>\n",
       "    <tr>\n",
       "      <th>8</th>\n",
       "      <td>NEW Kirby Galacta Knight Plush Doll Kirby Star...</td>\n",
       "      <td>Brand New</td>\n",
       "      <td>$18.15</td>\n",
       "      <td>False</td>\n",
       "      <td>https://i.ebayimg.com/thumbs/images/g/kqYAAOSw...</td>\n",
       "    </tr>\n",
       "    <tr>\n",
       "      <th>9</th>\n",
       "      <td>Kirby Plush 8\"  with Sword. NEW with TAGS!!!! ...</td>\n",
       "      <td>Brand New</td>\n",
       "      <td>$25.00</td>\n",
       "      <td>False</td>\n",
       "      <td>https://i.ebayimg.com/thumbs/images/g/z-AAAOSw...</td>\n",
       "    </tr>\n",
       "  </tbody>\n",
       "</table>\n",
       "</div>"
      ],
      "text/plain": [
       "                                                Name  Condition  \\\n",
       "0  Sanei Kirby 5.5\" Plush Stuffed Doll (KP01) - K...  Brand New   \n",
       "1  Kirby Plush 14 Inch Very Soft Stuffed Animal K...  Brand New   \n",
       "2  Kirby 5.5\" Plush Toy Little Buddy Kirby Advent...  Brand New   \n",
       "3                                Kirby Sitting Plush  Pre-Owned   \n",
       "4             Kirby plush 10\" King Dedede Plush Doll  Brand New   \n",
       "5  6\" Kirby Super Star Plush Toys Cute Kirby Soft...  Brand New   \n",
       "6  Kirby chef kawasaki plush doll anime video gam...  Pre-Owned   \n",
       "7  JUMBO Kirby Adventure Run Kirby Plush Toy Supe...  Brand New   \n",
       "8  NEW Kirby Galacta Knight Plush Doll Kirby Star...  Brand New   \n",
       "9  Kirby Plush 8\"  with Sword. NEW with TAGS!!!! ...  Brand New   \n",
       "\n",
       "            Price  New_Listing  \\\n",
       "0          $13.94        False   \n",
       "1          $22.88        False   \n",
       "2           $8.96        False   \n",
       "3          $10.00         True   \n",
       "4          $18.88        False   \n",
       "5  $9.59 to $9.89        False   \n",
       "6           $8.38        False   \n",
       "7          $28.99        False   \n",
       "8          $18.15        False   \n",
       "9          $25.00        False   \n",
       "\n",
       "                                          Image_Link  \n",
       "0  https://i.ebayimg.com/thumbs/images/g/ITEAAOSw...  \n",
       "1  https://i.ebayimg.com/thumbs/images/g/3HsAAOSw...  \n",
       "2  https://i.ebayimg.com/thumbs/images/g/xToAAOSw...  \n",
       "3  https://i.ebayimg.com/thumbs/images/g/6FgAAOSw...  \n",
       "4  https://i.ebayimg.com/thumbs/images/g/2X8AAOSw...  \n",
       "5  https://i.ebayimg.com/thumbs/images/g/~skAAOSw...  \n",
       "6  https://i.ebayimg.com/thumbs/images/g/iNUAAOSw...  \n",
       "7  https://i.ebayimg.com/thumbs/images/g/A5wAAOSw...  \n",
       "8  https://i.ebayimg.com/thumbs/images/g/kqYAAOSw...  \n",
       "9  https://i.ebayimg.com/thumbs/images/g/z-AAAOSw...  "
      ]
     },
     "execution_count": 44,
     "metadata": {},
     "output_type": "execute_result"
    }
   ],
   "source": [
    "df.reset_index(inplace=True)\n",
    "df.drop(columns=[\"index\"], inplace=True)\n",
    "df.head(10)"
   ]
  },
  {
   "cell_type": "markdown",
   "metadata": {},
   "source": [
    "#### Outputting as CSV file"
   ]
  },
  {
   "cell_type": "code",
   "execution_count": 45,
   "metadata": {},
   "outputs": [],
   "source": [
    "df.to_csv(\"kirby_plush_prices.csv\", index=False)"
   ]
  }
 ],
 "metadata": {
  "kernelspec": {
   "display_name": "Python 3.10.7 64-bit",
   "language": "python",
   "name": "python3"
  },
  "language_info": {
   "codemirror_mode": {
    "name": "ipython",
    "version": 3
   },
   "file_extension": ".py",
   "mimetype": "text/x-python",
   "name": "python",
   "nbconvert_exporter": "python",
   "pygments_lexer": "ipython3",
   "version": "3.10.7"
  },
  "orig_nbformat": 4,
  "vscode": {
   "interpreter": {
    "hash": "991b4f12e3cd7e62d84ec965b56412c4354ac1fe6297d96f50a80e713193dd77"
   }
  }
 },
 "nbformat": 4,
 "nbformat_minor": 2
}
