{
 "cells": [
  {
   "cell_type": "markdown",
   "metadata": {},
   "source": [
    "#### Beautiful Soup Crash Course"
   ]
  },
  {
   "cell_type": "markdown",
   "metadata": {},
   "source": [
    "##### Note: Installed lxml parsing library via PIP"
   ]
  },
  {
   "cell_type": "code",
   "execution_count": 1,
   "metadata": {},
   "outputs": [],
   "source": [
    "from bs4 import BeautifulSoup\n",
    "import requests\n",
    "import csv"
   ]
  },
  {
   "cell_type": "markdown",
   "metadata": {},
   "source": [
    "#### Option #1 - reading a HTML file saved to the repo folder"
   ]
  },
  {
   "cell_type": "code",
   "execution_count": 2,
   "metadata": {},
   "outputs": [],
   "source": [
    "with open('ComputerScraperTest.htm', 'r') as local_file:\n",
    "    content = local_file.read()\n",
    "    soup = BeautifulSoup(content, 'lxml')"
   ]
  },
  {
   "cell_type": "markdown",
   "metadata": {},
   "source": [
    "#### Option #2 (preferred) - using Request library to fetch a remote HTML web page"
   ]
  },
  {
   "cell_type": "code",
   "execution_count": 3,
   "metadata": {},
   "outputs": [],
   "source": [
    "page_to_scrape = requests.get(\"https://webscraper.io/test-sites/e-commerce/allinone/computers/laptops\")\n",
    "remote_soup = BeautifulSoup(page_to_scrape.text, 'lxml')"
   ]
  },
  {
   "cell_type": "markdown",
   "metadata": {},
   "source": [
    "#### Preparing CSV file for writing\n",
    "* newline parameter resolves issue of blank line in between each record"
   ]
  },
  {
   "cell_type": "code",
   "execution_count": 4,
   "metadata": {},
   "outputs": [
    {
     "data": {
      "text/plain": [
       "57"
      ]
     },
     "execution_count": 4,
     "metadata": {},
     "output_type": "execute_result"
    }
   ],
   "source": [
    "file = open(\"computer_listings.csv\", \"w\", newline='')\n",
    "writer = csv.writer(file)\n",
    "writer.writerow([\"Name\",\"Description\",\"Price\",\"Average_Rating\",\"Number_of_Reviews\"])"
   ]
  },
  {
   "cell_type": "markdown",
   "metadata": {},
   "source": [
    "#### Desired Data:\n",
    "* Product Name - a tag with class title, title attribute holds name\n",
    "* Product Price - h4 tag with class \"pull-right price\"\n",
    "* Product Description - p tag class description, inner text holds description\n",
    "* Average Rating - p tag with data-rating attribute, holds string version of rating\n",
    "* Number of Reviews - p tag with calass \"pull-right\" holds number of reviews."
   ]
  },
  {
   "cell_type": "markdown",
   "metadata": {},
   "source": [
    "#### Test - attempting to pull product names"
   ]
  },
  {
   "cell_type": "code",
   "execution_count": 5,
   "metadata": {},
   "outputs": [
    {
     "name": "stdout",
     "output_type": "stream",
     "text": [
      "Asus VivoBook X4...\n",
      "Prestigio SmartB...\n",
      "Prestigio SmartB...\n",
      "Aspire E1-510\n",
      "Lenovo V110-15IA...\n",
      "Lenovo V110-15IA...\n",
      "Hewlett Packard...\n",
      "Acer Aspire 3 A3...\n",
      "Acer Aspire A315...\n",
      "Acer Aspire ES1-...\n",
      "Acer Aspire 3 A3...\n",
      "Acer Aspire 3 A3...\n",
      "Asus VivoBook Ma...\n",
      "Asus VivoBook E5...\n",
      "Lenovo ThinkPad...\n",
      "Acer Aspire 3 A3...\n",
      "Lenovo V110-15IS...\n",
      "Acer Aspire ES1-...\n",
      "Asus VivoBook 15...\n",
      "Packard 255 G2\n",
      "Asus EeeBook R41...\n",
      "Acer Aspire 3 A3...\n",
      "Acer Aspire ES1-...\n",
      "Acer Extensa 15...\n",
      "Acer Aspire ES1-...\n",
      "Lenovo V110-15IS...\n",
      "Acer Aspire A315...\n",
      "Lenovo V110-15IK...\n",
      "Asus VivoBook 15...\n",
      "Acer Aspire ES1-...\n",
      "Lenovo V510 Blac...\n",
      "Acer Aspire ES1-...\n",
      "Lenovo V510 Blac...\n",
      "Acer Swift 1 SF1...\n",
      "Dell Vostro 15\n",
      "Acer Aspire 3 A3...\n",
      "Dell Vostro 15 (...\n",
      "Lenovo V510 Blac...\n",
      "HP 250 G3\n",
      "Acer Spin 5\n",
      "HP 350 G1\n",
      "Aspire E1-572G\n",
      "Pavilion\n",
      "Acer Aspire A515...\n",
      "Dell Inspiron 15\n",
      "Asus VivoBook S1...\n",
      "ProBook\n",
      "Inspiron 15\n",
      "Asus ROG STRIX G...\n",
      "Acer Nitro 5 AN5...\n",
      "Asus ROG STRIX G...\n",
      "Lenovo ThinkPad...\n",
      "ThinkPad Yoga\n",
      "Lenovo ThinkPad...\n",
      "Dell Inspiron 15...\n",
      "MSI GL72M 7RDX\n",
      "MSI GL72M 7RDX\n",
      "Asus ROG Strix G...\n",
      "Dell Latitude 52...\n",
      "Dell Latitude 54...\n",
      "Lenovo Legion Y5...\n",
      "Toshiba Portege...\n",
      "Acer Predator He...\n",
      "Acer Aspire 7 A7...\n",
      "Dell Inspiron 17...\n",
      "Dell Latitude 54...\n",
      "Lenovo Legion Y5...\n",
      "Asus AsusPro Adv...\n",
      "Acer Nitro 5 AN5...\n",
      "Dell Latitude 54...\n",
      "Dell Inspiron 15...\n",
      "Dell Latitude 55...\n",
      "Lenovo Legion Y5...\n",
      "MSI GP62M 7RDX L...\n",
      "Lenovo Yoga 720...\n",
      "Toshiba Portege...\n",
      "Acer TravelMate...\n",
      "Dell Latitude 55...\n",
      "ThinkPad T540p\n",
      "MSI GS63 7RD Ste...\n",
      "Dell Latitude 54...\n",
      "Acer Predator He...\n",
      "MSI GL62M 7REX\n",
      "MSI GL62M 7REX2\n",
      "Lenovo Yoga 910...\n",
      "Toshiba Portege...\n",
      "Lenovo IdeaPad M...\n",
      "Acer Predator He...\n",
      "ThinkPad Yoga\n",
      "Asus VivoBook Pr...\n",
      "Dell Latitude 54...\n",
      "Asus ZenBook UX5...\n",
      "ThinkPad X230\n",
      "Asus ROG Strix G...\n",
      "Apple MacBook Ai...\n",
      "Dell Latitude 54...\n",
      "Hewlett Packard...\n",
      "Dell XPS 13\n",
      "Toshiba Portege...\n",
      "MSI GL62VR 7RFX\n",
      "Dell Latitude 54...\n",
      "ThinkPad X240\n",
      "Hewlett Packard...\n",
      "Apple MacBook Pr...\n",
      "Dell Latitude 55...\n",
      "Dell Latitude 54...\n",
      "Dell Latitude 55...\n",
      "Apple MacBook Ai...\n",
      "Lenovo ThinkPad...\n",
      "Lenovo ThinkPad...\n",
      "Toshiba Portege...\n",
      "Asus ASUSPRO B94...\n",
      "Lenovo Legion Y7...\n",
      "Asus ROG Strix G...\n",
      "Asus ROG Strix G...\n",
      "Asus ROG Strix G...\n",
      "Asus ROG Strix S...\n"
     ]
    }
   ],
   "source": [
    "product_names = remote_soup.findAll(\"a\", attrs={\"class\":\"title\"})\n",
    "for item in product_names:\n",
    "    print(item.text)"
   ]
  },
  {
   "cell_type": "markdown",
   "metadata": {},
   "source": [
    "#### Pulling all product cards, and saving to a variable\n",
    "* All product cards live in a div with class \"thumbnail\""
   ]
  },
  {
   "cell_type": "code",
   "execution_count": 6,
   "metadata": {},
   "outputs": [],
   "source": [
    "product_cards = remote_soup.find_all('div', attrs={\"class\":\"thumbnail\"})\n",
    "# Alternative approach:\n",
    "# product_cards = remote_soup.find_all('div', class_=\"thumbnail\")"
   ]
  },
  {
   "cell_type": "markdown",
   "metadata": {},
   "source": [
    "#### Drilling down into cards to identify key pieces, then writing to CSV file\n",
    "* Using structure [\"Name\",\"Description\",\"Price\",\"Average_Rating\",\"Number_of_Reviews\"]"
   ]
  },
  {
   "cell_type": "code",
   "execution_count": 7,
   "metadata": {},
   "outputs": [],
   "source": [
    "for card in product_cards:\n",
    "    #print(card)\n",
    "    product_name =  card.find('a', class_=\"title\")['title'] \n",
    "    description = card.find('p', class_=\"description\").text\n",
    "    price = card.find(\"h4\", class_=\"pull-right price\").text\n",
    "    number_of_reviews = card.find('p', class_=\"pull-right\").text.split()[0]\n",
    "    # Scraping for Average Review - checking if the p tag contains attribute data-rating using True\n",
    "    average_rating = card.find(\"p\", {\"data-rating\":True})[\"data-rating\"]\n",
    "    #print([product_name,description,price,average_rating,number_of_reviews])\n",
    "    writer.writerow([product_name,description,price,average_rating,number_of_reviews])"
   ]
  },
  {
   "cell_type": "markdown",
   "metadata": {},
   "source": [
    "#### Closing the CSV file"
   ]
  },
  {
   "cell_type": "code",
   "execution_count": 8,
   "metadata": {},
   "outputs": [],
   "source": [
    "file.close()"
   ]
  }
 ],
 "metadata": {
  "kernelspec": {
   "display_name": "Python 3.10.7 64-bit",
   "language": "python",
   "name": "python3"
  },
  "language_info": {
   "codemirror_mode": {
    "name": "ipython",
    "version": 3
   },
   "file_extension": ".py",
   "mimetype": "text/x-python",
   "name": "python",
   "nbconvert_exporter": "python",
   "pygments_lexer": "ipython3",
   "version": "3.10.7"
  },
  "orig_nbformat": 4,
  "vscode": {
   "interpreter": {
    "hash": "991b4f12e3cd7e62d84ec965b56412c4354ac1fe6297d96f50a80e713193dd77"
   }
  }
 },
 "nbformat": 4,
 "nbformat_minor": 2
}
